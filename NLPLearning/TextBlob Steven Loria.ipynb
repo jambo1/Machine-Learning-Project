{
 "cells": [
  {
   "cell_type": "code",
   "execution_count": 1,
   "metadata": {
    "collapsed": true
   },
   "outputs": [
    {
     "name": "stdout",
     "output_type": "stream",
     "text": [
      "[['I love this sandwich.', 'pos'], ['This is an amazing place!', 'pos'], ['I feel very good about these beers.', 'pos'], ['This is my best work.', 'pos'], ['What an awesome view', 'pos'], ['I do not like this restaurant', 'neg'], ['I am tired of this stuff.', 'neg'], [\"I can't deal with this\", 'neg'], ['He is my sworn enemy!', 'neg'], ['My boss is horrible.', 'neg']]\npos\nneg\nThe beer was amazing. But the hangover was horrible. My boss was not pleased.\nneg\nThe beer was amazing.\npos\nBut the hangover was horrible.\nneg\nMy boss was not pleased.\nneg\nAccuracy: 0.8333333333333334\nMost Informative Features\n          contains(this) = True              neg : pos    =      2.3 : 1.0\n          contains(this) = False             pos : neg    =      1.8 : 1.0\n            contains(an) = False             neg : pos    =      1.6 : 1.0\n          contains(This) = False             neg : pos    =      1.6 : 1.0\n             contains(I) = True              neg : pos    =      1.4 : 1.0\n"
     ]
    }
   ],
   "source": [
    "from textblob.classifiers import NaiveBayesClassifier\n",
    "from textblob import TextBlob\n",
    "from nltk.corpus import stopwords\n",
    "\n",
    "train = [\n",
    "    ('I love this sandwich.', 'pos'),\n",
    "    ('This is an amazing place!', 'pos'),\n",
    "    ('I feel very good about these beers.', 'pos'),\n",
    "    ('This is my best work.', 'pos'),\n",
    "    (\"What an awesome view\", 'pos'),\n",
    "    ('I do not like this restaurant', 'neg'),\n",
    "    ('I am tired of this stuff.', 'neg'),\n",
    "    (\"I can't deal with this\", 'neg'),\n",
    "    ('He is my sworn enemy!', 'neg'),\n",
    "    ('My boss is horrible.', 'neg')\n",
    "]\n",
    "test = [\n",
    "    ('The beer was good.', 'pos'),\n",
    "    ('I do not enjoy my job', 'neg'),\n",
    "    (\"I ain't feeling dandy today.\", 'neg'),\n",
    "    (\"I feel amazing!\", 'pos'),\n",
    "    ('Gary is a friend of mine.', 'pos'),\n",
    "    (\"I can't believe I'm doing this.\", 'neg')\n",
    "]\n",
    "\n",
    "clean_train=train[:]\n",
    "stops = set(stopwords.words(\"english\"))\n",
    "for i in range (0, len(clean_train)):\n",
    "    word=[]\n",
    "    for j in range(0, len(clean_train[i])):\n",
    "        if clean_train[i][j] not in stops:\n",
    "            word.append(clean_train[i][j])\n",
    "    clean_train[i]=word\n",
    "        \n",
    "print(clean_train)     \n",
    "    \n",
    "    \n",
    "\n",
    "cl = NaiveBayesClassifier(clean_train)\n",
    "\n",
    "# Classify some text\n",
    "print(cl.classify(\"Their burgers are amazing.\"))  # \"pos\"\n",
    "print(cl.classify(\"I don't like their pizza.\"))   # \"neg\"\n",
    "\n",
    "# Classify a TextBlob\n",
    "blob = TextBlob(\"The beer was amazing. But the hangover was horrible. \"\n",
    "                \"My boss was not pleased.\", classifier=cl)\n",
    "print(blob)\n",
    "print(blob.classify())\n",
    "\n",
    "sr = stopwords.words(\"english\")\n",
    "\n",
    "for sentence in blob.sentences:\n",
    "    print(sentence)\n",
    "    print(sentence.classify())\n",
    "\n",
    "# Compute accuracy\n",
    "print(\"Accuracy: {0}\".format(cl.accuracy(test)))\n",
    "\n",
    "# Show 5 most informative features\n",
    "cl.show_informative_features(5)\n"
   ]
  },
  {
   "cell_type": "code",
   "execution_count": 1,
   "metadata": {},
   "outputs": [
    {
     "name": "stdout",
     "output_type": "stream",
     "text": [
      "Accuracy: 0.5\nMost Informative Features\n             contains(I) = True              neg : sarc   =      2.3 : 1.0\n           contains(the) = False             neg : sarc   =      2.2 : 1.0\n          contains(this) = False            sarc : neg    =      2.2 : 1.0\n             contains(I) = False            sarc : neg    =      1.8 : 1.0\n           contains(But) = False             neg : sarc   =      1.6 : 1.0\n"
     ]
    }
   ],
   "source": [
    "import random\n",
    "from nltk.corpus import movie_reviews\n",
    "from textblob.classifiers import NaiveBayesClassifier\n",
    "random.seed(1)\n",
    "\n",
    "train = [\n",
    "    ('Ho ho ho... But Melania said that there is no way it could have happened because she didnt know the woman!.', 'sarc'),\n",
    "    ('wow it is totally unreasonable to assume that the agency that covered up Bush war crimes because \"\"muh republican party\"\" would be partisan as fuck', 'sarc'),\n",
    "    ('But theyll have all those reviews!', 'sarc'),\n",
    "    ('I cant wait until @potus starts a twitter war against Morning Joe.', 'sarc'),\n",
    "    (\"gotta love the teachers who give exams on the day after halloween\", 'sarc'),\n",
    "    ('I do not like this restaurant', 'neg'),\n",
    "    ('I am tired of this stuff.', 'neg'),\n",
    "    (\"I can't deal with this\", 'neg'),\n",
    "    ('He is my sworn enemy!', 'neg'),\n",
    "    ('My boss is horrible.', 'neg')\n",
    "]\n",
    "test = [\n",
    "    ('Hoiberg said \"\"great players\"\", not Dwight.', 'sarc'),\n",
    "    ('I do not enjoy my job', 'neg'),\n",
    "    (\"Oh, I never realized it was so easy, why had I, and every other lonely person on earth never thought of that before?\", 'neg'),\n",
    "    (\"Oh yay I fell and broke my leg, lucky me\", 'sarc'),\n",
    "    ('Good job trump! Making us look bad yet again', 'sarc'),\n",
    "    (\"I can't believe I'm doing this.\", 'neg')\n",
    "]\n",
    "\n",
    "cl = NaiveBayesClassifier(train)\n",
    "\n",
    "\n",
    "# Compute accuracy\n",
    "accuracy = cl.accuracy(test)\n",
    "print(\"Accuracy: {0}\".format(accuracy))\n",
    "\n",
    "# Show 5 most informative features\n",
    "cl.show_informative_features(5)"
   ]
  },
  {
   "cell_type": "code",
   "execution_count": 4,
   "metadata": {},
   "outputs": [
    {
     "ename": "NameError",
     "evalue": "name 'nltk' is not defined",
     "traceback": [
      "\u001b[1;31m---------------------------------------------------------------------------\u001b[0m",
      "\u001b[1;31mNameError\u001b[0m                                 Traceback (most recent call last)",
      "\u001b[1;32m<ipython-input-4-6e230a00a763>\u001b[0m in \u001b[0;36m<module>\u001b[1;34m()\u001b[0m\n\u001b[1;32m----> 1\u001b[1;33m \u001b[0mnltk\u001b[0m\u001b[1;33m.\u001b[0m\u001b[0mdownload\u001b[0m\u001b[1;33m(\u001b[0m\u001b[1;33m)\u001b[0m\u001b[1;33m\u001b[0m\u001b[0m\n\u001b[0m",
      "\u001b[1;31mNameError\u001b[0m: name 'nltk' is not defined"
     ],
     "output_type": "error"
    }
   ],
   "source": [
    "nltk.download()"
   ]
  },
  {
   "cell_type": "code",
   "execution_count": 2,
   "metadata": {},
   "outputs": [],
   "source": [
    "import random\n",
    "from nltk.corpus import movie_reviews\n",
    "from textblob.classifiers import NaiveBayesClassifier\n",
    "import csv\n",
    "from nltk.corpus import stopwords\n",
    "\n",
    "random.seed(1)\n",
    "\n",
    "raw_comments =[]\n",
    "stops = set()\n",
    "\n",
    "for word in stopwords.words('english'):\n",
    "    stops.add(word)\n",
    "\n",
    "\n",
    "\n"
   ]
  },
  {
   "cell_type": "code",
   "execution_count": 26,
   "metadata": {},
   "outputs": [],
   "source": [
    "with open(\"DevProject/Project work/Shortened training set.csv\") as csvfile:\n",
    "    reader = csv.DictReader(csvfile)\n",
    "    for row in reader:\n",
    "        if row['label'] == \"1\":\n",
    "            sent = 'sarc'\n",
    "        elif row['label']== \"0\":\n",
    "            sent = 'neg'\n",
    "            \n",
    "        comment = row['comment']\n",
    "        comment_split = comment.split()\n",
    "        nonstop_com =\"\"\n",
    "        for word in comment_split:\n",
    "            if word in stops:\n",
    "                pass\n",
    "            else:\n",
    "                nonstop_com += (\" \"+ word)\n",
    "                \n",
    "        raw_comments.append((nonstop_com, sent))\n",
    "\n",
    "random.shuffle(raw_comments) "
   ]
  },
  {
   "cell_type": "code",
   "execution_count": 4,
   "metadata": {},
   "outputs": [],
   "source": [
    "comments = []\n",
    "for comment in raw_comments:\n",
    "    if len(comment[0].split()) > 3:\n",
    "        comments.append(comment)\n",
    "        "
   ]
  },
  {
   "cell_type": "code",
   "execution_count": 10,
   "metadata": {},
   "outputs": [],
   "source": [
    "sarc_comments = []\n",
    "neg_comments = []\n",
    "for comment in comments:\n",
    "    if comment[1] == \"sarc\":\n",
    "        sarc_comments.append(comment)    \n",
    "    elif comment[1] == \"neg\":\n",
    "        neg_comments.append(comment)\n",
    "       "
   ]
  },
  {
   "cell_type": "code",
   "execution_count": 5,
   "metadata": {},
   "outputs": [
    {
     "name": "stdout",
     "output_type": "stream",
     "text": [
      "3460\n"
     ]
    }
   ],
   "source": [
    "print(len(comments))"
   ]
  },
  {
   "cell_type": "code",
   "execution_count": 6,
   "metadata": {},
   "outputs": [
    {
     "name": "stdout",
     "output_type": "stream",
     "text": [
      "Accuracy: 0.8048780487804879\nMost Informative Features\n           contains(war) = True             sarc : neg    =     15.1 : 1.0\n            contains(on) = True             sarc : neg    =     12.3 : 1.0\n            contains(ta) = True             sarc : neg    =     12.3 : 1.0\n           contains(the) = True             sarc : neg    =      9.6 : 1.0\n           contains(top) = True             sarc : neg    =      9.6 : 1.0\n"
     ]
    }
   ],
   "source": [
    "new_train, new_test = comments[0:1000], comments[1001:1200]\n",
    "\n",
    "# Update the classifier with the new training data\n",
    "cl.update(new_train)\n",
    "\n",
    "# Compute accuracy\n",
    "accuracy = cl.accuracy(test + new_test)\n",
    "print(\"Accuracy: {0}\".format(accuracy))\n",
    "\n",
    "# Show 5 most informative features\n",
    "cl.show_informative_features(5)"
   ]
  },
  {
   "cell_type": "code",
   "execution_count": 7,
   "metadata": {},
   "outputs": [
    {
     "name": "stdout",
     "output_type": "stream",
     "text": [
      "Accuracy: 0.8195121951219512\nMost Informative Features\n       contains(working) = True             sarc : neg    =     12.9 : 1.0\n           contains(war) = True             sarc : neg    =     11.2 : 1.0\n        contains(People) = True             sarc : neg    =     10.0 : 1.0\n          contains(have) = True             sarc : neg    =     10.0 : 1.0\n        contains(school) = True             sarc : neg    =     10.0 : 1.0\n"
     ]
    }
   ],
   "source": [
    "new_train, new_test = comments[1201:2000], comments[2001:2200]\n",
    "\n",
    "# Update the classifier with the new training data\n",
    "cl.update(new_train)\n",
    "\n",
    "# Compute accuracy\n",
    "accuracy = cl.accuracy(test + new_test)\n",
    "print(\"Accuracy: {0}\".format(accuracy))\n",
    "\n",
    "# Show 5 most informative features\n",
    "cl.show_informative_features(5) "
   ]
  },
  {
   "cell_type": "code",
   "execution_count": 8,
   "metadata": {},
   "outputs": [
    {
     "name": "stdout",
     "output_type": "stream",
     "text": [
      "Accuracy: 0.7698924731182796\nMost Informative Features\n          contains(poor) = True             sarc : neg    =     14.9 : 1.0\n         contains(civil) = True             sarc : neg    =     12.2 : 1.0\n       contains(working) = True             sarc : neg    =     12.2 : 1.0\n        contains(racist) = True             sarc : neg    =     10.4 : 1.0\n       contains(Chinese) = True             sarc : neg    =      9.5 : 1.0\n"
     ]
    }
   ],
   "source": [
    "new_train, new_test = comments[2201:3000], comments[3001:3460]\n",
    "\n",
    "# Update the classifier with the new training data\n",
    "cl.update(new_train)\n",
    "\n",
    "# Compute accuracy\n",
    "accuracy = cl.accuracy(test + new_test)\n",
    "print(\"Accuracy: {0}\".format(accuracy))\n",
    "\n",
    "# Show 5 most informative features\n",
    "cl.show_informative_features(5)  "
   ]
  },
  {
   "cell_type": "code",
   "execution_count": 9,
   "metadata": {},
   "outputs": [
    {
     "name": "stdout",
     "output_type": "stream",
     "text": [
      "Most Informative Features\n          contains(poor) = True             sarc : neg    =     14.9 : 1.0\n         contains(civil) = True             sarc : neg    =     12.2 : 1.0\n       contains(working) = True             sarc : neg    =     12.2 : 1.0\n        contains(racist) = True             sarc : neg    =     10.4 : 1.0\n       contains(Chinese) = True             sarc : neg    =      9.5 : 1.0\n       contains(college) = True             sarc : neg    =      9.5 : 1.0\n        contains(crimes) = True             sarc : neg    =      8.9 : 1.0\n      contains(happened) = True             sarc : neg    =      7.3 : 1.0\n            contains(if) = True             sarc : neg    =      6.8 : 1.0\n        contains(ground) = True             sarc : neg    =      6.8 : 1.0\n         contains(yours) = True             sarc : neg    =      6.8 : 1.0\n       contains(pulling) = True             sarc : neg    =      6.8 : 1.0\n           contains(Joe) = True             sarc : neg    =      6.8 : 1.0\n          contains(runs) = True             sarc : neg    =      6.8 : 1.0\n       contains(covered) = True             sarc : neg    =      6.8 : 1.0\n        contains(living) = True             sarc : neg    =      6.8 : 1.0\n        contains(caused) = True             sarc : neg    =      6.8 : 1.0\n           contains(smh) = True             sarc : neg    =      6.8 : 1.0\n          contains(spin) = True             sarc : neg    =      6.8 : 1.0\n        contains(cheats) = True             sarc : neg    =      6.8 : 1.0\n       contains(healthy) = True             sarc : neg    =      6.8 : 1.0\n      contains(finished) = True             sarc : neg    =      6.8 : 1.0\n            contains(ho) = True             sarc : neg    =      6.8 : 1.0\n        contains(master) = True             sarc : neg    =      6.8 : 1.0\n           contains(bro) = True             sarc : neg    =      6.8 : 1.0\n        contains(symbol) = True             sarc : neg    =      6.8 : 1.0\n       contains(minions) = True             sarc : neg    =      6.8 : 1.0\n         contains(tells) = True             sarc : neg    =      6.8 : 1.0\n       contains(destroy) = True             sarc : neg    =      6.8 : 1.0\n      contains(stealing) = True             sarc : neg    =      6.8 : 1.0\n     contains(alt-right) = True             sarc : neg    =      6.8 : 1.0\n         contains(group) = True             sarc : neg    =      6.8 : 1.0\n       contains(silence) = True             sarc : neg    =      6.8 : 1.0\n          contains(bomb) = True             sarc : neg    =      6.8 : 1.0\n        contains(losing) = True             sarc : neg    =      6.8 : 1.0\n          contains(foot) = True             sarc : neg    =      6.8 : 1.0\n        contains(fruits) = True             sarc : neg    =      6.8 : 1.0\n      contains(interest) = True             sarc : neg    =      6.8 : 1.0\n           contains(fix) = True             sarc : neg    =      6.8 : 1.0\n      contains(partisan) = True             sarc : neg    =      6.8 : 1.0\n"
     ]
    }
   ],
   "source": [
    "# Show 40 most informative features\n",
    "cl.show_informative_features(40)"
   ]
  },
  {
   "cell_type": "code",
   "execution_count": 7,
   "metadata": {},
   "outputs": [
    {
     "name": "stdout",
     "output_type": "stream",
     "text": [
      "Accuracy: 0.9980053191489362\nMost Informative Features\n       contains(because) = True             sarc : neg    =    723.3 : 1.0\n           contains(the) = True             sarc : neg    =    607.6 : 1.0\n          contains(cant) = True             sarc : neg    =    434.0 : 1.0\n            contains(be) = True             sarc : neg    =    434.0 : 1.0\n           contains(muh) = True             sarc : neg    =    434.0 : 1.0\n       contains(against) = True             sarc : neg    =    434.0 : 1.0\n       contains(twitter) = True             sarc : neg    =    434.0 : 1.0\n            contains(ho) = True             sarc : neg    =    434.0 : 1.0\n            contains(Ho) = True             sarc : neg    =    434.0 : 1.0\n            contains(as) = True             sarc : neg    =    434.0 : 1.0\n        contains(agency) = True             sarc : neg    =    434.0 : 1.0\n  contains(unreasonable) = True             sarc : neg    =    434.0 : 1.0\n           contains(all) = True             sarc : neg    =    434.0 : 1.0\n       contains(Melania) = True             sarc : neg    =    434.0 : 1.0\n       contains(covered) = True             sarc : neg    =    434.0 : 1.0\n          contains(have) = True             sarc : neg    =    310.0 : 1.0\n          contains(Bush) = True             sarc : neg    =    260.4 : 1.0\n      contains(happened) = True             sarc : neg    =    260.4 : 1.0\n        contains(assume) = True             sarc : neg    =    260.4 : 1.0\n           contains(Joe) = True             sarc : neg    =    260.4 : 1.0\n    contains(republican) = True             sarc : neg    =    260.4 : 1.0\n           contains(war) = True             sarc : neg    =    241.1 : 1.0\n           contains(wow) = True             sarc : neg    =    186.0 : 1.0\n        contains(starts) = True             sarc : neg    =    186.0 : 1.0\n            contains(ta) = True             sarc : neg    =    144.7 : 1.0\n        contains(crimes) = True             sarc : neg    =    144.7 : 1.0\n           contains(who) = True             sarc : neg    =    144.7 : 1.0\n       contains(totally) = True             sarc : neg    =    144.7 : 1.0\n         contains(party) = True             sarc : neg    =    144.7 : 1.0\n            contains(is) = True             sarc : neg    =    127.6 : 1.0\n         contains(woman) = True             sarc : neg    =    118.4 : 1.0\n            contains(up) = True             sarc : neg    =    100.2 : 1.0\n            contains(to) = True             sarc : neg    =     86.8 : 1.0\n            contains(on) = True             sarc : neg    =     86.8 : 1.0\n            contains(no) = True             sarc : neg    =     86.8 : 1.0\n           contains(day) = True             sarc : neg    =     76.6 : 1.0\n          contains(wait) = True             sarc : neg    =     76.6 : 1.0\n          contains(give) = True             sarc : neg    =     62.0 : 1.0\n          contains(said) = True             sarc : neg    =     44.9 : 1.0\n          contains(fuck) = True             sarc : neg    =     42.0 : 1.0\n"
     ]
    }
   ],
   "source": [
    "new_test = raw_comments[3501:5000]\n",
    "\n",
    "# Compute accuracy\n",
    "accuracy = cl.accuracy(test + new_test)\n",
    "print(\"Accuracy: {0}\".format(accuracy))\n",
    "\n",
    "# Show 5 most informative features\n",
    "cl.show_informative_features(40)   "
   ]
  },
  {
   "cell_type": "code",
   "execution_count": 12,
   "metadata": {},
   "outputs": [
    {
     "name": "stdout",
     "output_type": "stream",
     "text": [
      "682\n2778\n"
     ]
    }
   ],
   "source": [
    "final_test = []\n",
    "print(len(sarc_comments))\n",
    "print (len(neg_comments))"
   ]
  },
  {
   "cell_type": "code",
   "execution_count": 13,
   "metadata": {},
   "outputs": [],
   "source": [
    "for x in range(0,682):\n",
    "    final_test.append(sarc_comments[x])\n",
    "    final_test.append(neg_comments[x])"
   ]
  },
  {
   "cell_type": "code",
   "execution_count": 14,
   "metadata": {},
   "outputs": [
    {
     "name": "stdout",
     "output_type": "stream",
     "text": [
      "Accuracy: 0.7124087591240876\nMost Informative Features\n          contains(poor) = True             sarc : neg    =     14.9 : 1.0\n         contains(civil) = True             sarc : neg    =     12.2 : 1.0\n       contains(working) = True             sarc : neg    =     12.2 : 1.0\n        contains(racist) = True             sarc : neg    =     10.4 : 1.0\n       contains(Chinese) = True             sarc : neg    =      9.5 : 1.0\n"
     ]
    }
   ],
   "source": [
    "accuracy = cl.accuracy(test + final_test)\n",
    "print(\"Accuracy: {0}\".format(accuracy))\n",
    "\n",
    "# Show 5 most informative features\n",
    "cl.show_informative_features(5)   "
   ]
  },
  {
   "cell_type": "code",
   "execution_count": 31,
   "metadata": {},
   "outputs": [
    {
     "name": "stdout",
     "output_type": "stream",
     "text": [
      "2074 1577\n"
     ]
    }
   ],
   "source": [
    "raw_comments=[]\n",
    "comments = []\n",
    "\n",
    "with open(\"DevProject/Project work/Blind test.csv\", encoding='utf-8-sig') as csvfile:\n",
    "    reader = csv.DictReader(csvfile)\n",
    "    for row in reader:\n",
    "        \n",
    "        if row['label'] == \"1\":\n",
    "            sent = 'sarc'\n",
    "        elif row['label']== \"0\":\n",
    "            sent = 'neg'\n",
    "            \n",
    "        comment = row['comment']\n",
    "        comment_split = comment.split()\n",
    "        nonstop_com =\"\"\n",
    "        for word in comment_split:\n",
    "            if word in stops:\n",
    "                pass\n",
    "            else:\n",
    "                nonstop_com += (\" \"+ word)\n",
    "        if len(nonstop_com.split()) > 3:\n",
    "            raw_comments.append((nonstop_com, sent))\n",
    "\n",
    "sarc_comments = []\n",
    "neg_comments = []\n",
    "for comment in raw_comments:\n",
    "    if comment[1] == \"sarc\":\n",
    "        sarc_comments.append(comment)    \n",
    "    elif comment[1] == \"neg\":\n",
    "        neg_comments.append(comment)\n",
    "        \n",
    "print(len(sarc_comments), len(neg_comments))"
   ]
  },
  {
   "cell_type": "code",
   "execution_count": 32,
   "metadata": {},
   "outputs": [
    {
     "name": "stdout",
     "output_type": "stream",
     "text": [
      "Accuracy: 0.4413453650533224\nMost Informative Features\n          contains(poor) = True             sarc : neg    =     14.9 : 1.0\n         contains(civil) = True             sarc : neg    =     12.2 : 1.0\n       contains(working) = True             sarc : neg    =     12.2 : 1.0\n        contains(racist) = True             sarc : neg    =     10.4 : 1.0\n       contains(Chinese) = True             sarc : neg    =      9.5 : 1.0\n       contains(college) = True             sarc : neg    =      9.5 : 1.0\n        contains(crimes) = True             sarc : neg    =      8.9 : 1.0\n      contains(happened) = True             sarc : neg    =      7.3 : 1.0\n            contains(if) = True             sarc : neg    =      6.8 : 1.0\n        contains(ground) = True             sarc : neg    =      6.8 : 1.0\n         contains(yours) = True             sarc : neg    =      6.8 : 1.0\n       contains(pulling) = True             sarc : neg    =      6.8 : 1.0\n           contains(Joe) = True             sarc : neg    =      6.8 : 1.0\n          contains(runs) = True             sarc : neg    =      6.8 : 1.0\n       contains(covered) = True             sarc : neg    =      6.8 : 1.0\n        contains(living) = True             sarc : neg    =      6.8 : 1.0\n        contains(caused) = True             sarc : neg    =      6.8 : 1.0\n           contains(smh) = True             sarc : neg    =      6.8 : 1.0\n          contains(spin) = True             sarc : neg    =      6.8 : 1.0\n        contains(cheats) = True             sarc : neg    =      6.8 : 1.0\n       contains(healthy) = True             sarc : neg    =      6.8 : 1.0\n      contains(finished) = True             sarc : neg    =      6.8 : 1.0\n            contains(ho) = True             sarc : neg    =      6.8 : 1.0\n        contains(master) = True             sarc : neg    =      6.8 : 1.0\n           contains(bro) = True             sarc : neg    =      6.8 : 1.0\n        contains(symbol) = True             sarc : neg    =      6.8 : 1.0\n       contains(minions) = True             sarc : neg    =      6.8 : 1.0\n         contains(tells) = True             sarc : neg    =      6.8 : 1.0\n       contains(destroy) = True             sarc : neg    =      6.8 : 1.0\n      contains(stealing) = True             sarc : neg    =      6.8 : 1.0\n     contains(alt-right) = True             sarc : neg    =      6.8 : 1.0\n         contains(group) = True             sarc : neg    =      6.8 : 1.0\n       contains(silence) = True             sarc : neg    =      6.8 : 1.0\n          contains(bomb) = True             sarc : neg    =      6.8 : 1.0\n        contains(losing) = True             sarc : neg    =      6.8 : 1.0\n          contains(foot) = True             sarc : neg    =      6.8 : 1.0\n        contains(fruits) = True             sarc : neg    =      6.8 : 1.0\n      contains(interest) = True             sarc : neg    =      6.8 : 1.0\n           contains(fix) = True             sarc : neg    =      6.8 : 1.0\n      contains(partisan) = True             sarc : neg    =      6.8 : 1.0\n"
     ]
    }
   ],
   "source": [
    "# Compute accuracy\n",
    "accuracy = cl.accuracy(test + raw_comments)\n",
    "print(\"Accuracy: {0}\".format(accuracy))\n",
    "\n",
    "# Show 5 most informative features\n",
    "cl.show_informative_features(40)  "
   ]
  },
  {
   "cell_type": "code",
   "execution_count": null,
   "metadata": {},
   "outputs": [],
   "source": []
  }
 ],
 "metadata": {
  "kernelspec": {
   "display_name": "Python 2",
   "language": "python",
   "name": "python2"
  },
  "language_info": {
   "codemirror_mode": {
    "name": "ipython",
    "version": 2
   },
   "file_extension": ".py",
   "mimetype": "text/x-python",
   "name": "python",
   "nbconvert_exporter": "python",
   "pygments_lexer": "ipython2",
   "version": "2.7.6"
  }
 },
 "nbformat": 4,
 "nbformat_minor": 0
}
