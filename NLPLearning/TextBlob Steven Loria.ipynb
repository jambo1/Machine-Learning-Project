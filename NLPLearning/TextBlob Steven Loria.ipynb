{
 "cells": [
  {
   "cell_type": "code",
   "execution_count": 17,
   "metadata": {
    "collapsed": true
   },
   "outputs": [
    {
     "name": "stdout",
     "output_type": "stream",
     "text": [
      "[['I love this sandwich.', 'pos'], ['This is an amazing place!', 'pos'], ['I feel very good about these beers.', 'pos'], ['This is my best work.', 'pos'], ['What an awesome view', 'pos'], ['I do not like this restaurant', 'neg'], ['I am tired of this stuff.', 'neg'], [\"I can't deal with this\", 'neg'], ['He is my sworn enemy!', 'neg'], ['My boss is horrible.', 'neg']]\npos\nneg\nThe beer was amazing. But the hangover was horrible. My boss was not pleased.\nneg\nThe beer was amazing.\npos\nBut the hangover was horrible.\nneg\nMy boss was not pleased.\nneg\nAccuracy: 0.8333333333333334\nMost Informative Features\n          contains(this) = True              neg : pos    =      2.3 : 1.0\n          contains(this) = False             pos : neg    =      1.8 : 1.0\n          contains(This) = False             neg : pos    =      1.6 : 1.0\n            contains(an) = False             neg : pos    =      1.6 : 1.0\n             contains(I) = False             pos : neg    =      1.4 : 1.0\n"
     ]
    }
   ],
   "source": [
    "from textblob.classifiers import NaiveBayesClassifier\n",
    "from textblob import TextBlob\n",
    "from nltk.corpus import stopwords\n",
    "\n",
    "train = [\n",
    "    ('I love this sandwich.', 'pos'),\n",
    "    ('This is an amazing place!', 'pos'),\n",
    "    ('I feel very good about these beers.', 'pos'),\n",
    "    ('This is my best work.', 'pos'),\n",
    "    (\"What an awesome view\", 'pos'),\n",
    "    ('I do not like this restaurant', 'neg'),\n",
    "    ('I am tired of this stuff.', 'neg'),\n",
    "    (\"I can't deal with this\", 'neg'),\n",
    "    ('He is my sworn enemy!', 'neg'),\n",
    "    ('My boss is horrible.', 'neg')\n",
    "]\n",
    "test = [\n",
    "    ('The beer was good.', 'pos'),\n",
    "    ('I do not enjoy my job', 'neg'),\n",
    "    (\"I ain't feeling dandy today.\", 'neg'),\n",
    "    (\"I feel amazing!\", 'pos'),\n",
    "    ('Gary is a friend of mine.', 'pos'),\n",
    "    (\"I can't believe I'm doing this.\", 'neg')\n",
    "]\n",
    "\n",
    "clean_train=train[:]\n",
    "stops = set(stopwords.words(\"english\"))\n",
    "for i in range (0, len(clean_train)):\n",
    "    word=[]\n",
    "    for j in range(0, len(clean_train[i])):\n",
    "        if clean_train[i][j] not in stops:\n",
    "            word.append(clean_train[i][j])\n",
    "    clean_train[i]=word\n",
    "        \n",
    "print(clean_train)     \n",
    "    \n",
    "    \n",
    "\n",
    "cl = NaiveBayesClassifier(train)\n",
    "\n",
    "# Classify some text\n",
    "print(cl.classify(\"Their burgers are amazing.\"))  # \"pos\"\n",
    "print(cl.classify(\"I don't like their pizza.\"))   # \"neg\"\n",
    "\n",
    "# Classify a TextBlob\n",
    "blob = TextBlob(\"The beer was amazing. But the hangover was horrible. \"\n",
    "                \"My boss was not pleased.\", classifier=cl)\n",
    "print(blob)\n",
    "print(blob.classify())\n",
    "\n",
    "sr = stopwords.words(\"english\")\n",
    "\n",
    "for sentence in blob.sentences:\n",
    "    print(sentence)\n",
    "    print(sentence.classify())\n",
    "\n",
    "# Compute accuracy\n",
    "print(\"Accuracy: {0}\".format(cl.accuracy(test)))\n",
    "\n",
    "# Show 5 most informative features\n",
    "cl.show_informative_features(5)\n"
   ]
  },
  {
   "cell_type": "code",
   "execution_count": 15,
   "metadata": {},
   "outputs": [
    {
     "name": "stdout",
     "output_type": "stream",
     "text": [
      "Accuracy: 0.7714285714285715\nMost Informative Features\n         contains(worst) = True              neg : pos    =     10.0 : 1.0\n       contains(husband) = True              pos : neg    =      6.8 : 1.0\n        contains(others) = True              pos : neg    =      6.1 : 1.0\n    contains(ridiculous) = True              neg : pos    =      5.9 : 1.0\n         contains(haven) = True              neg : pos    =      5.9 : 1.0\n"
     ]
    }
   ],
   "source": [
    "import random\n",
    "from nltk.corpus import movie_reviews\n",
    "from textblob.classifiers import NaiveBayesClassifier\n",
    "random.seed(1)\n",
    "\n",
    "train = [\n",
    "    ('I love this sandwich.', 'pos'),\n",
    "    ('This is an amazing place!', 'pos'),\n",
    "    ('I feel very good about these beers.', 'pos'),\n",
    "    ('This is my best work.', 'pos'),\n",
    "    (\"What an awesome view\", 'pos'),\n",
    "    ('I do not like this restaurant', 'neg'),\n",
    "    ('I am tired of this stuff.', 'neg'),\n",
    "    (\"I can't deal with this\", 'neg'),\n",
    "    ('He is my sworn enemy!', 'neg'),\n",
    "    ('My boss is horrible.', 'neg')\n",
    "]\n",
    "test = [\n",
    "    ('The beer was good.', 'pos'),\n",
    "    ('I do not enjoy my job', 'neg'),\n",
    "    (\"I ain't feeling dandy today.\", 'neg'),\n",
    "    (\"I feel amazing!\", 'pos'),\n",
    "    ('Gary is a friend of mine.', 'pos'),\n",
    "    (\"I can't believe I'm doing this.\", 'neg')\n",
    "]\n",
    "\n",
    "cl = NaiveBayesClassifier(train)\n",
    "\n",
    "# Grab some movie review data\n",
    "reviews = [(list(movie_reviews.words(fileid)), category)\n",
    "              for category in movie_reviews.categories()\n",
    "              for fileid in movie_reviews.fileids(category)]\n",
    "random.shuffle(reviews)\n",
    "new_train, new_test = reviews[0:100], reviews[101:200]\n",
    "\n",
    "# Update the classifier with the new training data\n",
    "cl.update(new_train)\n",
    "\n",
    "# Compute accuracy\n",
    "accuracy = cl.accuracy(test + new_test)\n",
    "print(\"Accuracy: {0}\".format(accuracy))\n",
    "\n",
    "# Show 5 most informative features\n",
    "cl.show_informative_features(5)"
   ]
  },
  {
   "cell_type": "code",
   "execution_count": null,
   "metadata": {},
   "outputs": [],
   "source": []
  }
 ],
 "metadata": {
  "kernelspec": {
   "display_name": "Python 2",
   "language": "python",
   "name": "python2"
  },
  "language_info": {
   "codemirror_mode": {
    "name": "ipython",
    "version": 2
   },
   "file_extension": ".py",
   "mimetype": "text/x-python",
   "name": "python",
   "nbconvert_exporter": "python",
   "pygments_lexer": "ipython2",
   "version": "2.7.6"
  }
 },
 "nbformat": 4,
 "nbformat_minor": 0
}
