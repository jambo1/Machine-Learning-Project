{
 "cells": [
  {
   "cell_type": "code",
   "execution_count": 53,
   "metadata": {
    "collapsed": true
   },
   "outputs": [],
   "source": [
    "from sklearn import model_selection, preprocessing, linear_model, naive_bayes, metrics, svm\n",
    "from sklearn.feature_extraction.text import TfidfVectorizer, CountVectorizer\n",
    "from sklearn import decomposition, ensemble\n",
    "\n",
    "import pandas, numpy as np, textblob, string\n",
    "from textblob import TextBlob\n",
    "from textblob.sentiments import NaiveBayesAnalyzer\n",
    "from nltk.corpus import stopwords\n",
    "from vaderSentiment.vaderSentiment import SentimentIntensityAnalyzer\n"
   ]
  },
  {
   "cell_type": "code",
   "execution_count": null,
   "metadata": {},
   "outputs": [],
   "source": []
  },
  {
   "cell_type": "markdown",
   "metadata": {},
   "source": [
    "Create comment objects to hold desired information.<br>\n",
    "Create TextBlobs of all of the textual comments. This is useful for extracting a lot of information on the text, such as sentiment, nouns, verbs,word and noun frequencies, inflection, spelling corrections, etc.<br>\n",
    "Part of speech lists, giving each word in the sentence and what it is (i.e. noun, verb, adverb, etc. <br>\n",
    "Sentiment analysis is performed using VADER which gives positive, negative, neutral and compound scores. The compound score represents the aggregate of the other scores."
   ]
  },
  {
   "cell_type": "code",
   "execution_count": 54,
   "metadata": {},
   "outputs": [],
   "source": [
    "# Create a comment object\n",
    "class Comment:\n",
    "    def __init__(self, label, text):\n",
    "        self.label = label\n",
    "        self.text = text\n",
    "        self.split_text = text.split()\n",
    "        self.blob = TextBlob(self.text)\n",
    "        self.pos = self.blob.tags\n",
    "        analyzer = SentimentIntensityAnalyzer()\n",
    "        self.sentiment = analyzer.polarity_scores(self.text)\n",
    "        self.words = self.blob.words\n",
    "        self.sentences = self.blob.sentences\n",
    "        self.noun_phrases = self.blob.noun_phrases\n",
    "        \n",
    "  \n",
    "    def __iter__(self):\n",
    "        for i in range [0:len(self.split_text)-1] :\n",
    "            return(self.split_text[i])\n",
    "    \n",
    "    def __next__(self):\n",
    "        if i < len(self.split_text)-1:\n",
    "            return self.split_text[i]\n",
    "        else:\n",
    "            raise StopIteration  # Done iterating.\n",
    "        \n",
    "    def getInfo(self):\n",
    "        print(\"Label: \" ,self.label,\" Text: \", self.text, \"Sentiment: \",self.sentiment,\" Noun-phrases\"\n",
    "              , self.noun_phrases,\"Parts of speech: \", self.pos)\n",
    "        "
   ]
  },
  {
   "cell_type": "code",
   "execution_count": 87,
   "metadata": {},
   "outputs": [],
   "source": [
    "# Open the file and create comment objects with the label and comment\n",
    "\n",
    "import csv\n",
    "\n",
    "raw_comments =[]\n",
    "\n",
    "with open(\"DevProject/Project work/Blind test.csv\", encoding='utf-8-sig') as csvfile:\n",
    "    reader = csv.DictReader(csvfile)\n",
    "    for row in reader:\n",
    "        if len(row['comment'].split())>3: \n",
    "            raw_comments.append(Comment(row['label'],row['comment']))"
   ]
  },
  {
   "cell_type": "code",
   "execution_count": 88,
   "metadata": {},
   "outputs": [
    {
     "name": "stdout",
     "output_type": "stream",
     "text": [
      "Label:  0  Text:  Wow... That looks nice. Sentiment:  {'neg': 0.0, 'neu': 0.517, 'pos': 0.483, 'compound': 0.4215}  Noun-phrases ['wow'] Parts of speech:  [('Wow', 'NN'), ('That', 'DT'), ('looks', 'VBZ'), ('nice', 'JJ')]\nNone\n4264\n"
     ]
    }
   ],
   "source": [
    "#Check it worked\n",
    "print(raw_comments[27].getInfo())\n",
    "print(len(raw_comments))"
   ]
  },
  {
   "cell_type": "markdown",
   "metadata": {},
   "source": [
    "Removing stopwords has little to no effect on the sentiment scores, however it may influence the algorithmg based on the content for detecting sarcasm through common words etc. <br>\n",
    "All comments of less than 3 words are also removed."
   ]
  },
  {
   "cell_type": "code",
   "execution_count": 89,
   "metadata": {},
   "outputs": [],
   "source": [
    "sarc_comments =[]\n",
    "\n",
    "for comment in raw_comments:\n",
    "    if comment.label == \"1\":\n",
    "        sarc_comments.append(comment)\n",
    "        \n",
    "        "
   ]
  },
  {
   "cell_type": "code",
   "execution_count": 90,
   "metadata": {},
   "outputs": [
    {
     "name": "stdout",
     "output_type": "stream",
     "text": [
      "Label:  1  Text:  but it says \"fingerprint\", if I take a toeprint it would be a bureaucratic anomaly! Sentiment:  {'neg': 0.0, 'neu': 1.0, 'pos': 0.0, 'compound': 0.0}  Noun-phrases [] Parts of speech:  [('but', 'CC'), ('it', 'PRP'), ('says', 'VBZ'), ('fingerprint', 'NN'), ('if', 'IN'), ('I', 'PRP'), ('take', 'VBP'), ('a', 'DT'), ('toeprint', 'NN'), ('it', 'PRP'), ('would', 'MD'), ('be', 'VB'), ('a', 'DT'), ('bureaucratic', 'JJ'), ('anomaly', 'NN')]\nNone\n"
     ]
    }
   ],
   "source": [
    "print(sarc_comments[107].getInfo())"
   ]
  },
  {
   "cell_type": "code",
   "execution_count": 103,
   "metadata": {},
   "outputs": [
    {
     "name": "stdout",
     "output_type": "stream",
     "text": [
      "Number of sarc comments  2428 . Mixed pos and neg  447 neg  930  pos  1180  neu  2428\nPercentages: Mixed pos and neg  18.410214168039538 neg  38.303130148270185  pos  48.59967051070841  neu  100.0\n\nNumber of comments  4264 . Mixed pos and neg  728 neg  1543  pos  2037  neu  4262\nPercentages: Mixed pos and neg  17.073170731707318 neg  36.186679174484055  pos  47.77204502814259  neu  99.953095684803\n"
     ]
    }
   ],
   "source": [
    "count =0\n",
    "negCount=0\n",
    "posCount=0\n",
    "neuCount=0\n",
    "total = len(sarc_comments)\n",
    "\n",
    "for comment in sarc_comments:\n",
    "    if comment.sentiment['neg'] >0.0:\n",
    "        negCount+=1\n",
    "        if comment.sentiment['pos'] >0.0:\n",
    "            count+=1\n",
    "     \n",
    "    if comment.sentiment['neu'] >0.0:\n",
    "        neuCount+=1\n",
    "     \n",
    "    if comment.sentiment['pos'] >0.0:\n",
    "        posCount+=1\n",
    "print(\"Number of sarc comments \", total,\". Mixed pos and neg \",count, \"neg \",negCount, \" pos \", posCount, \" neu \", neuCount)\n",
    "print(\"Percentages: Mixed pos and neg \",(count/total)*100, \"neg \",(negCount/total)*100, \n",
    "      \" pos \", (posCount/total)*100, \" neu \", (neuCount/total)*100)\n",
    "count =0\n",
    "negCount=0\n",
    "posCount=0\n",
    "neuCount=0\n",
    "total = len(raw_comments)\n",
    "\n",
    "for comment in raw_comments:\n",
    "    if comment.sentiment['neg'] >0.0:\n",
    "        negCount+=1\n",
    "        if comment.sentiment['pos'] >0.0:\n",
    "            count+=1\n",
    "     \n",
    "    if comment.sentiment['neu'] >0.0:\n",
    "        neuCount+=1\n",
    "     \n",
    "    if comment.sentiment['pos'] >0.0:\n",
    "        posCount+=1\n",
    "print()\n",
    "print(\"Number of comments \", len(raw_comments),\". Mixed pos and neg \",count, \"neg \",negCount, \" pos \", posCount, \" neu \", neuCount)\n",
    "print(\"Percentages: Mixed pos and neg \",(count/total)*100, \"neg \",(negCount/total)*100, \n",
    "      \" pos \", (posCount/total)*100, \" neu \", (neuCount/total)*100)"
   ]
  },
  {
   "cell_type": "markdown",
   "metadata": {},
   "source": [
    "There appears no overall correlation in the sample between sentiment and sarcasm from the sampleexcept that all contain neutral sentiment, however this is true for the entire sample so does not distinctly apply to sarcastic comments."
   ]
  },
  {
   "cell_type": "code",
   "execution_count": 104,
   "metadata": {},
   "outputs": [
    {
     "ename": "NameError",
     "evalue": "name 'ind' is not defined",
     "traceback": [
      "\u001b[1;31m---------------------------------------------------------------------------\u001b[0m",
      "\u001b[1;31mNameError\u001b[0m                                 Traceback (most recent call last)",
      "\u001b[1;32m<ipython-input-104-2eb7b0837105>\u001b[0m in \u001b[0;36m<module>\u001b[1;34m()\u001b[0m\n\u001b[0;32m      3\u001b[0m \u001b[1;33m\u001b[0m\u001b[0m\n\u001b[0;32m      4\u001b[0m \u001b[0mextractor\u001b[0m \u001b[1;33m=\u001b[0m \u001b[0mConllExtractor\u001b[0m\u001b[1;33m\u001b[0m\u001b[0m\n\u001b[1;32m----> 5\u001b[1;33m \u001b[0mthisblob\u001b[0m \u001b[1;33m=\u001b[0m \u001b[0mTextBlob\u001b[0m\u001b[1;33m(\u001b[0m\u001b[0mcomments\u001b[0m\u001b[1;33m[\u001b[0m\u001b[0mind\u001b[0m\u001b[1;33m]\u001b[0m\u001b[1;33m.\u001b[0m\u001b[0mtext\u001b[0m\u001b[1;33m,\u001b[0m \u001b[0mnp_extractor\u001b[0m\u001b[1;33m=\u001b[0m\u001b[0mextractor\u001b[0m\u001b[1;33m)\u001b[0m\u001b[1;33m\u001b[0m\u001b[0m\n\u001b[0m\u001b[0;32m      6\u001b[0m \u001b[0mprint\u001b[0m\u001b[1;33m(\u001b[0m\u001b[0mthisblob\u001b[0m\u001b[1;33m.\u001b[0m\u001b[0mnoun_phrases\u001b[0m\u001b[1;33m)\u001b[0m\u001b[1;33m\u001b[0m\u001b[0m\n",
      "\u001b[1;31mNameError\u001b[0m: name 'ind' is not defined"
     ],
     "output_type": "error"
    }
   ],
   "source": [
    "alt_nouns = []\n",
    "from textblob.np_extractors import ConllExtractor\n",
    "\n",
    "extractor = ConllExtractor\n",
    "thisblob = TextBlob(comments[ind].text, np_extractor=extractor)\n",
    "print(thisblob.noun_phrases)"
   ]
  },
  {
   "cell_type": "code",
   "execution_count": null,
   "metadata": {},
   "outputs": [],
   "source": []
  }
 ],
 "metadata": {
  "kernelspec": {
   "display_name": "Python 2",
   "language": "python",
   "name": "python2"
  },
  "language_info": {
   "codemirror_mode": {
    "name": "ipython",
    "version": 2
   },
   "file_extension": ".py",
   "mimetype": "text/x-python",
   "name": "python",
   "nbconvert_exporter": "python",
   "pygments_lexer": "ipython2",
   "version": "2.7.6"
  }
 },
 "nbformat": 4,
 "nbformat_minor": 0
}
