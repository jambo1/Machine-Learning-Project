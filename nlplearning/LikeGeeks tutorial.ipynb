{
 "cells": [
  {
   "cell_type": "code",
   "execution_count": 1,
   "metadata": {
    "collapsed": false
   },
   "outputs": [
    {
     "name": "stdout",
     "output_type": "stream",
     "text": [
      "showing info https://raw.githubusercontent.com/nltk/nltk_data/gh-pages/index.xml\n"
     ]
    }
   ],
   "source": [
    "import nltk\n",
    "nltk.download()"
   ]
  },
  {
   "cell_type": "code",
   "execution_count": 4,
   "metadata": {},
   "outputs": [
    {
     "name": "stdout",
     "output_type": "stream",
     "text": [
      "PHP::1\nHypertext:1\nPreprocessorDownloadsDocumentationGet:1\nInvolvedHelpGetting:1\nStartedIntroductionA:1\nsimple:1\ntutorialLanguage:1\nReferenceBasic:1\nsyntaxTypesVariablesConstantsExpressionsOperatorsControl:1\nStructuresFunctionsClasses:1\nObjectsNamespacesErrorsExceptionsGeneratorsReferences:1\nExplainedPredefined:1\nVariablesPredefined:1\nExceptionsPredefined:1\nInterfaces:1\nClassesContext:1\noptions:1\nparametersSupported:1\nProtocols:1\nWrappersSecurityIntroductionGeneral:1\nconsiderationsInstalled:1\nCGI:1\nbinaryInstalled:1\nApache:1\nmoduleSession:1\nSecurityFilesystem:1\nSecurityDatabase:1\nSecurityError:1\nReportingUsing:1\nRegister:1\nGlobalsUser:1\nSubmitted:1\nDataMagic:1\nQuotesHiding:1\nPHPKeeping:1\nCurrentFeaturesHTTP:1\nauthentication:1\nPHPCookiesSessionsDealing:1\nXFormsHandling:1\nfile:1\nuploadsUsing:1\nremote:1\nfilesConnection:1\nhandlingPersistent:1\nDatabase:1\nConnectionsSafe:1\nModeCommand:1\nline:1\nusageGarbage:1\nCollectionDTrace:1\nDynamic:1\nTracingFunction:1\nReferenceAffecting:1\nPHP's:1\nBehaviourAudio:1\nFormats:1\nManipulationAuthentication:1\nServicesCommand:1\nLine:1\nSpecific:2\nExtensionsCompression:1\nArchive:1\nExtensionsCredit:1\nCard:1\nProcessingCryptography:1\nExtensionsDatabase:1\nExtensionsDate:1\nTime:1\nRelated:4\nExtensionsFile:1\nSystem:1\nExtensionsHuman:1\nLanguage:1\nCharacter:1\nEncoding:1\nSupportImage:1\nProcessing:1\nGenerationMail:1\nExtensionsMathematical:1\nExtensionsNon-Text:1\nMIME:1\nOutputProcess:1\nControl:1\nExtensionsOther:2\nBasic:1\nServicesSearch:1\nEngine:1\nExtensionsServer:1\nExtensionsSession:1\nExtensionsText:1\nProcessingVariable:1\nType:1\nExtensionsWeb:1\nServicesWindows:1\nOnly:1\nExtensionsXML:1\nManipulationGUI:1\nExtensionsKeyboard:1\nShortcuts?This:1\nhelpjNext:1\nmenu:2\nitemkPrevious:1\nitemg:1\npPrevious:1\nman:2\npageg:1\nnNext:1\npageGScroll:1\nbottomg:1\ngScroll:1\ntopg:1\nhGoto:1\nhomepageg:1\nsGoto:1\nsearch(current:1\npage)/Focus:1\nsearch:1\nboxPHP:1\npopular:2\ngeneral-purpose:1\nscripting:1\nlanguage:1\nespecially:1\nsuited:1\nweb:1\ndevelopment.Fast,:1\nflexible:1\npragmatic,:1\nPHP:65\npowers:1\neverything:1\nblog:1\nwebsites:1\nworld.Download5.6.36·Release:1\nNotes·Upgrading7.0.30·Release:1\nNotes·Upgrading7.1.19·Release:1\nNotes·Upgrading7.2.7·Release:1\nNotes·Upgrading25:1\nJun:4\n2018PHP:9\n7.1.19:2\nReleasedThe:12\ndevelopment:12\nteam:14\nannounces:12\nimmediate:12\navailability:12\n7.1.19.:1\nAll:9\n7.1:3\nusers:12\nencouraged:12\nupgrade:7\nversion.For:8\nsource:21\ndownloads:14\nplease:14\nvisit:14\nourdownloads:7\npage,:7\nWindows:13\nbinaries:13\nfound:24\nonwindows.php.net/download/.:7\nThe:9\nlist:19\nchanges:7\nrecorded:7\ntheChangeLog.21:2\n7.2.7:3\nReleasedPHP:2\nRelease:15\nAnnouncementThe:1\n7.2.7.:1\nThis:11\nprimarily:2\nbugfix:3\nrelease:22\nincludes:2\nsegfault:1\nfix:3\nopcache.PHP:1\n7.2:3\n7.3.0:8\nalpha:2\n2:2\nglad:2\nannounce:2\nsecond:2\nversion,:2\nAlpha:10\n2.:2\nrough:2\noutline:2\n7.3:2\ncycle:1\nspecified:2\nthePHP:2\nWiki.For:2\nthedownload:2\npage.:1\nsources:6\nonwindows.php.net/qa/.Please:1\ncarefully:2\ntest:8\nversion:8\nreport:7\nissues:2\nthebug:7\nreporting:2\nsystem.THIS:6\nIS:6\nA:6\nDEVELOPMENT:6\nPREVIEW:6\n-:7\nDO:7\nNOT:7\nUSE:6\nIT:6\nIN:6\nPRODUCTION!For:6\ninformation:7\nnew:7\nfeatures:7\nchanges,:7\nread:12\ntheNEWSfile,:7\ntheUPGRADINGfile:7\ncomplete:7\nupgrading:7\nnotes.:7\nThese:7\nfiles:7\nalso:12\narchive.The:2\nnext:4\nwould:2\n3,:1\nplanned:7\nJuly:1\n5.The:1\nsignatures:2\ninthe:2\nmanifestor:2\nonthe:2\nQA:2\nsite.Thank:2\nhelping:7\nus:7\nmake:7\nbetter.07:1\n1:4\nfirst:4\n1.:2\nstarts:1\ncycle,:1\npage.Please:1\nsystem.Please:1\nuse:1\nproduction,:1\nearly:1\n2,:1\nJune:1\n21.The:1\nbetter.25:1\nMay:2\n7.1.18:2\n7.1.18.:1\ntheChangeLog.24:1\n7.2.6:2\n7.2.6.:1\nmemory:1\ncorruption:1\nEXIF.PHP:1\ntheChangeLog.26:2\nApr:2\n5.6.36:2\n5.6.36.:1\nsecurity:3\nrelease.:2\nSeveral:1\nbugs:6\nfixed:1\n5.6:1\n7.1.17:2\n7.1.17.:1\nrelease,:2\ncontaining:1\nmany:1\nbugfixes.:1\ntheChangeLog.01:1\nFeb:1\n7.2.2:2\n7.2.2.:1\nseveral:1\nbug:1\nfixes:2\nincluded.All:1\ntheChangeLog.12:1\nOct:1\n2017PHP:5\n7.2.0:15\nCandidate:14\n4:2\nRC4.:1\nfourth:1\n7.2.0.:4\ncarefully,:5\nincompatibilities:5\ntracking:5\narchive.For:5\nthedownloadpage,:5\natwindows.php.net/qa/.The:4\nannounced:2\n26th:1\nOctober.:2\nYou:5\nfull:5\nreleases:5\nonour:4\nwiki.Thank:4\nbetter.28:1\nSep:1\n3:6\nRC3.:1\nthird:2\n12th:1\nbetter.31:1\nAug:2\nreleased:3\n14th:1\nSeptember.:1\nbetter.17:1\nBeta:3\n3.:2\nfinal:1\nbeta:2\n31th:1\nAugust.:1\nbetter.06:1\nJul:1\ncontains:1\nimprovements:1\nrelative:1\nonwindows.php.net/qa/.The:1\n20th:1\nJuly.:1\nourwiki.Thank:1\nbetter.Older:1\nNews:1\nEntriesUpcoming:1\nconferencesSymfonyLive:1\nLondon:1\n2018LaravelConf:1\nTaiwan:1\n2018Mid-Atlantic:1\nDeveloper:1\nConferenceInternational:1\nConference:2\n2018:1\nFall:1\nEditionConferences:1\ncalling:1\npapersphp:1\nCentral:1\nEurope:1\n2018php[world]:1\n2018User:1\nGroup:1\nEventsSpecial:1\nThanksSocial:1\nmedia@official_phpCopyright:1\n©:1\n2001-2018:1\nGroupMy:1\nPHP.netContactOther:1\nPHP.net:1\nsitesMirror:1\nsitesPrivacy:1\npolicy:1\n"
     ]
    }
   ],
   "source": [
    "from bs4 import BeautifulSoup\n",
    "import urllib.request\n",
    "import nltk\n",
    "from nltk.corpus import stopwords\n",
    "\n",
    "response = urllib.request.urlopen(\"http://php.net/\")\n",
    "html = response.read()\n",
    "soup = BeautifulSoup(html, \"html5lib\")\n",
    "text=soup.get_text(strip=True)\n",
    "\n",
    "tokens = [t for t in text.split()]\n",
    "clean_tokens = tokens[:]\n",
    "sr = stopwords.words(\"english\")\n",
    "for token in tokens:\n",
    "    if token in stopwords.words(\"english\"):\n",
    "        clean_tokens.remove(token)\n",
    "freq = nltk.FreqDist(clean_tokens)\n",
    "for key,val in freq.items():\n",
    "    print(str(key)+\":\"+str(val))\n",
    "\n",
    "freq.plot(20, cumulative=False)"
   ]
  },
  {
   "cell_type": "code",
   "execution_count": null,
   "metadata": {},
   "outputs": [],
   "source": []
  },
  {
   "cell_type": "code",
   "execution_count": null,
   "metadata": {},
   "outputs": [],
   "source": []
  }
 ],
 "metadata": {
  "kernelspec": {
   "display_name": "Python 3",
   "language": "python",
   "name": "python3"
  },
  "language_info": {
   "codemirror_mode": {
    "name": "ipython",
    "version": 3
   },
   "file_extension": ".py",
   "mimetype": "text/x-python",
   "name": "python",
   "nbconvert_exporter": "python",
   "pygments_lexer": "ipython3",
   "version": "3.6.4"
  }
 },
 "nbformat": 4,
 "nbformat_minor": 1
}
